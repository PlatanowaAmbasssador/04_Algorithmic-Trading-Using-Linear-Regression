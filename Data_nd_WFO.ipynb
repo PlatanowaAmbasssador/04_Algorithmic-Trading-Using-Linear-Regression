{
 "cells": [
  {
   "cell_type": "code",
   "execution_count": 1,
   "metadata": {},
   "outputs": [],
   "source": [
    "import matplotlib.pyplot as plt\n",
    "import pandas as pd\n",
    "import numpy as np\n",
    "import plotly.express as px\n",
    "import plotly.graph_objects as go\n",
    "import yfinance as yf"
   ]
  },
  {
   "cell_type": "code",
   "execution_count": 2,
   "metadata": {},
   "outputs": [],
   "source": [
    "# Downloading Data\n",
    "def get_data(index_symbol, start='', end='2023-10-30'):\n",
    "    df_index = yf.download(index_symbol, start, end).dropna()\n",
    "    df_index = df_index[['Close']]\n",
    "    return df_index"
   ]
  },
  {
   "cell_type": "code",
   "execution_count": 3,
   "metadata": {},
   "outputs": [],
   "source": [
    "def plot_flow_bar(data, lookback_bars, validation_bars, testing_bars):\n",
    "\n",
    "    ranges = list(range(lookback_bars, len(data) - testing_bars, validation_bars))\n",
    "\n",
    "    fig, ax = plt.subplots()\n",
    "    fig.set_figwidth(12)\n",
    "\n",
    "    train_data = pd.DataFrame()\n",
    "    val_data = pd.DataFrame()\n",
    "    test_data = pd.DataFrame()\n",
    "    for i in range(0,len(ranges)): #len(ranges)\n",
    "        training_data = data[ranges[i]-lookback_bars:ranges[i]]\n",
    "        validation_data = data[ranges[i]:ranges[i]+validation_bars]\n",
    "        testing_data = data[ranges[i]+validation_bars:ranges[i]+validation_bars+testing_bars]\n",
    "\n",
    "        plt.fill_between(training_data.index,\n",
    "                         [len(ranges) -i - 0.5]*len(training_data.index),\n",
    "                         [len(ranges) -i + 0.5]*len(training_data.index),\n",
    "                        color =\"green\", edgecolor = \"black\", linewidth =0.5\n",
    "                        )\n",
    "\n",
    "        plt.fill_between(validation_data.index,\n",
    "                         [len(ranges) -i - 0.5]*len(validation_data.index),\n",
    "                         [len(ranges) -i + 0.5]*len(validation_data.index),\n",
    "                        color =\"yellow\", edgecolor = \"black\", linewidth=0.5\n",
    "                        )\n",
    "        \n",
    "        plt.fill_between(testing_data.index,\n",
    "                         [len(ranges) -i - 0.5]*len(testing_data.index),\n",
    "                         [len(ranges) -i + 0.5]*len(testing_data.index),\n",
    "                        color =\"red\", edgecolor = \"black\", linewidth=0.5\n",
    "                        )\n",
    "        \n",
    "        plt.fill_between(data.index[(lookback_bars+validation_bars):],\n",
    "                        [0.5]*(len(data.index[(lookback_bars+validation_bars):])),\n",
    "                        [-0.5]*(len(data.index[(lookback_bars+validation_bars):])),\n",
    "                        color =\"darkred\", edgecolor = \"black\", linewidth=0.5\n",
    "                        )\n",
    "        \n",
    "        train_data = pd.concat([train_data, training_data])\n",
    "        val_data = pd.concat([val_data, validation_data])\n",
    "        test_data = pd.concat([test_data, testing_data])\n",
    "        \n",
    "    plt.show()\n",
    "    return train_data, val_data, test_data"
   ]
  },
  {
   "cell_type": "code",
   "execution_count": 4,
   "metadata": {},
   "outputs": [
    {
     "name": "stdout",
     "output_type": "stream",
     "text": [
      "[*********************100%***********************]  1 of 1 completed\n"
     ]
    }
   ],
   "source": [
    "df_GSPC = get_data('^SPX')"
   ]
  },
  {
   "cell_type": "code",
   "execution_count": 5,
   "metadata": {},
   "outputs": [],
   "source": [
    "data = df_GSPC[26:]\n",
    "lookback_bars = 505\n",
    "validation_bars = 253\n",
    "testing_bars = 253"
   ]
  },
  {
   "cell_type": "code",
   "execution_count": 6,
   "metadata": {},
   "outputs": [
    {
     "data": {
      "image/png": "[encoded data removed]",
      "text/plain": [
       "<Figure size 1200x480 with 1 Axes>"
      ]
     },
     "metadata": {},
     "output_type": "display_data"
    }
   ],
   "source": [
    "train_data, val_data, test_data = plot_flow_bar(data,lookback_bars,validation_bars,testing_bars)"
   ]
  }
 ],
 "metadata": {
  "kernelspec": {
   "display_name": "BS_env",
   "language": "python",
   "name": "python3"
  },
  "language_info": {
   "codemirror_mode": {
    "name": "ipython",
    "version": 3
   },
   "file_extension": ".py",
   "mimetype": "text/x-python",
   "name": "python",
   "nbconvert_exporter": "python",
   "pygments_lexer": "ipython3",
   "version": "3.8.15"
  },
  "orig_nbformat": 4
 },
 "nbformat": 4,
 "nbformat_minor": 2
}
