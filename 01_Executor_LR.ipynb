{
 "cells": [
  {
   "cell_type": "code",
   "execution_count": null,
   "metadata": {},
   "outputs": [],
   "source": [
    "from LR_functions import *\n",
    "import time"
   ]
  },
  {
   "cell_type": "markdown",
   "metadata": {},
   "source": [
    "# Defining Hyperparameters"
   ]
  },
  {
   "cell_type": "code",
   "execution_count": null,
   "metadata": {},
   "outputs": [],
   "source": [
    "# Defining the scaler\n",
    "scaler_X = MinMaxScaler(feature_range=(0, 1))\n",
    "scaler_Y = MinMaxScaler(feature_range=(0, 1))"
   ]
  },
  {
   "cell_type": "code",
   "execution_count": null,
   "metadata": {},
   "outputs": [],
   "source": [
    "num_lags =  [7, 9, 11, 14, 16, 18, 20, 22]\n",
    "RSI_window = [7, 14, 21, 27, 33]\n",
    "RV_window = [7, 14, 21]\n",
    "\n",
    "config = [{'num_lags': nl, 'RSI_window': rsi, 'RV_window': rv}\n",
    "          for nl in num_lags\n",
    "          for rsi in RSI_window\n",
    "          for rv in RV_window]\n",
    "len(config)"
   ]
  },
  {
   "cell_type": "markdown",
   "metadata": {},
   "source": [
    "# Hyperparameter Tunning and Predictions"
   ]
  },
  {
   "cell_type": "code",
   "execution_count": null,
   "metadata": {},
   "outputs": [],
   "source": [
    "start_time = time.time()\n",
    "\n",
    "ACTUAL_VALUES, ALL_MODEL_PREDICTIONS = ModelTunning(INDEX_SYMBOL='AAPL',\n",
    "             START='1988-01-01', \n",
    "             END='2023-10-30',\n",
    "             TRAINING_BARS=505,\n",
    "             VALIDATION_BARS=253,\n",
    "             TESTING_BARS=253,\n",
    "             SCALER_X=scaler_X,\n",
    "             SCALER_Y=scaler_Y,\n",
    "             CONFIG=config,\n",
    "             TRANSACTION_COST=(0.05/100)).hyperparameter_tunning()\n",
    "\n",
    "end_time = time.time()\n",
    "\n",
    "print(f'The time it took for hyperparameter tunning is {(end_time-start_time)/60} minutes')"
   ]
  },
  {
   "cell_type": "markdown",
   "metadata": {},
   "source": [
    "# Read CSVs"
   ]
  },
  {
   "cell_type": "code",
   "execution_count": null,
   "metadata": {},
   "outputs": [],
   "source": [
    "df = pd.read_csv('./Results/df.csv').set_index('Date')\n",
    "df_predictions = pd.read_csv('./Results/df_predictions.csv').set_index('Date')"
   ]
  },
  {
   "cell_type": "markdown",
   "metadata": {},
   "source": [
    "# Backtesting"
   ]
  },
  {
   "cell_type": "code",
   "execution_count": null,
   "metadata": {},
   "outputs": [],
   "source": [
    "BacktestStrategy(df, df_predictions, (0.01/100)).run_all_methods()"
   ]
  },
  {
   "cell_type": "code",
   "execution_count": null,
   "metadata": {},
   "outputs": [],
   "source": [
    "PM = PerformanceMetrics('Buy & Hold Strategy', 'Equity Curve Strategy', np.array(df_predictions['buy_n_hold'].values), np.array(df_predictions['strategy'].values))"
   ]
  },
  {
   "cell_type": "code",
   "execution_count": null,
   "metadata": {},
   "outputs": [],
   "source": [
    "PM.wyniki()"
   ]
  }
 ],
 "metadata": {
  "kernelspec": {
   "display_name": "latest_env",
   "language": "python",
   "name": "python3"
  },
  "language_info": {
   "codemirror_mode": {
    "name": "ipython",
    "version": 3
   },
   "file_extension": ".py",
   "mimetype": "text/x-python",
   "name": "python",
   "nbconvert_exporter": "python",
   "pygments_lexer": "ipython3",
   "version": "3.10.0"
  }
 },
 "nbformat": 4,
 "nbformat_minor": 2
}
